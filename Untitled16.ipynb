{
 "cells": [
  {
   "cell_type": "code",
   "execution_count": 2,
   "id": "3a7b9e3f",
   "metadata": {},
   "outputs": [
    {
     "name": "stdout",
     "output_type": "stream",
     "text": [
      "Accuracy: 0.8781094527363185\n"
     ]
    }
   ],
   "source": [
    "# Import the required libraries\n",
    "import pandas as pd\n",
    "from sklearn.tree import DecisionTreeClassifier\n",
    "from sklearn.model_selection import train_test_split\n",
    "from sklearn.metrics import accuracy_score\n",
    "\n",
    "# Load the dataset\n",
    "data = pd.read_csv('insurance3r2.csv')\n",
    "\n",
    "# Split the dataset into features and target variables\n",
    "X = data.drop('insuranceclaim', axis=1)\n",
    "y = data['insuranceclaim']\n",
    "\n",
    "# Split the data into training and testing sets\n",
    "X_train, X_test, y_train, y_test = train_test_split(X, y, test_size=0.3, random_state=42)\n",
    "\n",
    "# Create the decision tree classifier object\n",
    "clf = DecisionTreeClassifier(max_depth=5)\n",
    "\n",
    "# Train the model on the training data\n",
    "clf.fit(X_train, y_train)\n",
    "\n",
    "# Test the model on the testing data\n",
    "y_pred = clf.predict(X_test)\n",
    "\n",
    "# Evaluate the model's accuracy\n",
    "accuracy = accuracy_score(y_test, y_pred)\n",
    "print(\"Accuracy:\", accuracy)\n"
   ]
  },
  {
   "cell_type": "code",
   "execution_count": 4,
   "id": "a4eb1234",
   "metadata": {},
   "outputs": [
    {
     "name": "stdout",
     "output_type": "stream",
     "text": [
      "[1]\n"
     ]
    }
   ],
   "source": [
    "new_data = pd.read_csv('newtest.csv')\n",
    "X_new = new_data.drop('insuranceclaim', axis=1)\n",
    "y_pred = clf.predict(X_new)\n",
    "print(y_pred)\n"
   ]
  },
  {
   "cell_type": "code",
   "execution_count": 1,
   "id": "855f35a9",
   "metadata": {},
   "outputs": [],
   "source": [
    "import tkinter as tk\n",
    "import csv\n",
    "\n",
    "root = tk.Tk()\n",
    "root.title(\"My GUI\")\n",
    "def button_clicked():\n",
    "    with open('newtest.csv', mode='w') as file:\n",
    "        writer = csv.writer(file)\n",
    "        writer.writerow([age,sex,bmi,steps,children,smoker,region,charges])\n",
    "age_label = tk.Label(root, text=\"Age:\")\n",
    "age_label.grid(row=0, column=0, padx=5, pady=5)\n",
    "age_entry = tk.Entry(root)\n",
    "age_entry.grid(row=0, column=1, padx=5, pady=5)\n",
    "\n",
    "Gender_label = tk.Label(root, text=\"Gender:\")\n",
    "Gender_label.grid(row=1, column=0, padx=5, pady=5)\n",
    "Gender_entry = tk.Entry(root)\n",
    "Gender_entry.grid(row=1, column=1, padx=5, pady=5)\n",
    "\n",
    "bmi_label = tk.Label(root, text=\"BMI:\")\n",
    "bmi_label.grid(row=2, column=0, padx=5, pady=5)\n",
    "bmi_entry = tk.Entry(root)\n",
    "bmi_entry.grid(row=2, column=1, padx=5, pady=5)\n",
    "\n",
    "steps_label = tk.Label(root, text=\"Steps:\")\n",
    "steps_label.grid(row=3, column=0, padx=5, pady=5)\n",
    "steps_entry = tk.Entry(root)\n",
    "steps_entry.grid(row=3, column=1, padx=5, pady=5)\n",
    "\n",
    "children_label = tk.Label(root, text=\"Children:\")\n",
    "children_label.grid(row=4, column=0, padx=5, pady=5)\n",
    "children_entry = tk.Entry(root)\n",
    "children_entry.grid(row=4, column=1, padx=5, pady=5)\n",
    "\n",
    "smoker_label = tk.Label(root, text=\"Smoker:\")\n",
    "smoker_label.grid(row=5, column=0, padx=5, pady=5)\n",
    "smoker_entry = tk.Entry(root)\n",
    "smoker_entry.grid(row=5, column=1, padx=5, pady=5)\n",
    "\n",
    "Region_label = tk.Label(root, text=\"Region:\")\n",
    "Region_label.grid(row=6, column=0, padx=5, pady=5)\n",
    "Region_entry = tk.Entry(root)\n",
    "Region_entry.grid(row=6, column=1, padx=5, pady=5)\n",
    "\n",
    "Charges_label = tk.Label(root, text=\"Gender:\")\n",
    "Charges_label.grid(row=7, column=0, padx=5, pady=5)\n",
    "Charges_entry = tk.Entry(root)\n",
    "Charges_entry.grid(row=7, column=1, padx=5, pady=5)\n",
    "\n",
    "button = tk.Button(root, text=\"Click me!\", command=button_clicked)\n",
    "button.grid(row=8,column=1)\n",
    "age = age_entry.get()\n",
    "sex = Gender_entry.get()\n",
    "bmi = bmi_entry.get()\n",
    "steps = steps_entry.get()\n",
    "children = children_entry.get()\n",
    "smoker = smoker_entry.get()\n",
    "region = Region_entry.get()\n",
    "charges = Charges_entry.get()\n",
    "root.mainloop()"
   ]
  },
  {
   "cell_type": "code",
   "execution_count": null,
   "id": "0ace3659",
   "metadata": {},
   "outputs": [],
   "source": []
  }
 ],
 "metadata": {
  "kernelspec": {
   "display_name": "Python 3 (ipykernel)",
   "language": "python",
   "name": "python3"
  },
  "language_info": {
   "codemirror_mode": {
    "name": "ipython",
    "version": 3
   },
   "file_extension": ".py",
   "mimetype": "text/x-python",
   "name": "python",
   "nbconvert_exporter": "python",
   "pygments_lexer": "ipython3",
   "version": "3.9.12"
  }
 },
 "nbformat": 4,
 "nbformat_minor": 5
}
